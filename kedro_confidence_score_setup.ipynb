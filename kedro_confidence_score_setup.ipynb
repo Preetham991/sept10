{
 "cells": [
  {
   "cell_type": "markdown",
   "id": "6751654e",
   "metadata": {},
   "source": [
    "# Kedro Project Setup: `confidence_score`\n",
    "\n",
    "This notebook contains step-by-step instructions for creating a Kedro project with 4 empty-but-safe nodes (load → inference → score → visualization).\n",
    "\n",
    "⚠️ Run system commands in **PowerShell/terminal**, not inside the notebook."
   ]
  },
  {
   "cell_type": "markdown",
   "id": "c045bc69",
   "metadata": {},
   "source": [
    "## Step 1: Environment Setup\n",
    "\n",
    "```powershell\n",
    "mkdir confidence_score\n",
    "cd confidence_score\n",
    "\n",
    "python -m venv .venv\n",
    ".venv\\Scripts\\Activate.ps1\n",
    "\n",
    "pip install \"kedro>=0.18\" \"kedro-datasets[pandas]\" kedro-viz pandas\n",
    "```"
   ]
  },
  {
   "cell_type": "markdown",
   "id": "98f669a9",
   "metadata": {},
   "source": [
    "## Step 2: Create Kedro Project\n",
    "\n",
    "```powershell\n",
    "kedro new\n",
    "```\n",
    "\n",
    "Prompts:\n",
    "- Project name: `confidence_score`\n",
    "- Repository name: `confidence_score`\n",
    "- Python package name: `confidence_score`\n",
    "\n",
    "Then:\n",
    "```powershell\n",
    "cd confidence_score\n",
    "```"
   ]
  },
  {
   "cell_type": "markdown",
   "id": "fa6bed85",
   "metadata": {},
   "source": [
    "## Step 3: Create Pipeline\n",
    "\n",
    "```powershell\n",
    "kedro pipeline create confidence\n",
    "```"
   ]
  },
  {
   "cell_type": "markdown",
   "id": "624fd84b",
   "metadata": {},
   "source": [
    "## Step 4: `conf/base/catalog.yml`\n",
    "\n",
    "```yaml\n",
    "raw_data:\n",
    "  type: kedro_datasets.pandas.CSVDataset\n",
    "  filepath: data/01_raw/raw_data.csv\n",
    "  save_args:\n",
    "    index: False\n",
    "\n",
    "predictions:\n",
    "  type: kedro_datasets.pandas.CSVDataset\n",
    "  filepath: data/02_intermediate/predictions.csv\n",
    "  save_args:\n",
    "    index: False\n",
    "\n",
    "metrics:\n",
    "  type: kedro_datasets.json.JSONDataset\n",
    "  filepath: data/03_primary/metrics.json\n",
    "```"
   ]
  },
  {
   "cell_type": "markdown",
   "id": "858df4ec",
   "metadata": {},
   "source": [
    "## Step 5: `src/confidence_score/pipelines/confidence/nodes.py`\n",
    "\n",
    "```python\n",
    "import pandas as pd\n",
    "from typing import Dict, Any\n",
    "\n",
    "def load_data() -> pd.DataFrame:\n",
    "    print(\">> RUN: load_data\")\n",
    "    return pd.DataFrame(columns=[\"id\", \"value\"])\n",
    "\n",
    "def run_inference(raw_data: pd.DataFrame) -> pd.DataFrame:\n",
    "    print(\">> RUN: run_inference\")\n",
    "    if raw_data is None or raw_data.empty:\n",
    "        return pd.DataFrame(columns=[\"id\", \"prediction\"])\n",
    "    df = raw_data.copy()\n",
    "    df[\"prediction\"] = df.get(\"value\", None)\n",
    "    return df\n",
    "\n",
    "def calculate_score(predictions: pd.DataFrame) -> Dict[str, Any]:\n",
    "    print(\">> RUN: calculate_score\")\n",
    "    if predictions is None or predictions.empty or \"prediction\" not in predictions.columns:\n",
    "        return {\"average_prediction\": None}\n",
    "    return {\"average_prediction\": float(predictions[\"prediction\"].mean())}\n",
    "\n",
    "def create_visualization(metrics: Dict[str, Any]) -> None:\n",
    "    print(\">> RUN: create_visualization ->\", metrics)\n",
    "    return None\n",
    "```"
   ]
  },
  {
   "cell_type": "markdown",
   "id": "254913d5",
   "metadata": {},
   "source": [
    "## Step 6: `src/confidence_score/pipelines/confidence/pipeline.py`\n",
    "\n",
    "```python\n",
    "from kedro.pipeline import Pipeline, node\n",
    "from . import nodes\n",
    "\n",
    "def create_pipeline(**kwargs) -> Pipeline:\n",
    "    return Pipeline([\n",
    "        node(nodes.load_data, None, \"raw_data\", name=\"load_data\"),\n",
    "        node(nodes.run_inference, \"raw_data\", \"predictions\", name=\"run_inference\"),\n",
    "        node(nodes.calculate_score, \"predictions\", \"metrics\", name=\"calculate_score\"),\n",
    "        node(nodes.create_visualization, \"metrics\", None, name=\"create_visualization\"),\n",
    "    ])\n",
    "```"
   ]
  },
  {
   "cell_type": "markdown",
   "id": "d2f5b64b",
   "metadata": {},
   "source": [
    "## Step 7: `src/confidence_score/pipeline_registry.py`\n",
    "\n",
    "```python\n",
    "from typing import Dict\n",
    "from kedro.pipeline import Pipeline\n",
    "from confidence_score.pipelines.confidence.pipeline import create_pipeline\n",
    "\n",
    "def register_pipelines() -> Dict[str, Pipeline]:\n",
    "    confidence = create_pipeline()\n",
    "    return {\n",
    "        \"__default__\": confidence,\n",
    "        \"confidence\": confidence,\n",
    "    }\n",
    "```"
   ]
  },
  {
   "cell_type": "markdown",
   "id": "b8458aea",
   "metadata": {},
   "source": [
    "## Step 8: Create Data Folders\n",
    "\n",
    "```powershell\n",
    "New-Item -ItemType Directory -Force -Path data\\01_raw\n",
    "New-Item -ItemType Directory -Force -Path data\\02_intermediate\n",
    "New-Item -ItemType Directory -Force -Path data\\03_primary\n",
    "```"
   ]
  },
  {
   "cell_type": "markdown",
   "id": "a094bcce",
   "metadata": {},
   "source": [
    "## Step 9: Run Pipeline\n",
    "\n",
    "```powershell\n",
    "kedro run --pipeline confidence --verbose\n",
    "```\n",
    "\n",
    "Expected:\n",
    "```\n",
    ">> RUN: load_data\n",
    ">> RUN: run_inference\n",
    ">> RUN: calculate_score\n",
    ">> RUN: create_visualization -> {'average_prediction': None}\n",
    "```"
   ]
  },
  {
   "cell_type": "markdown",
   "id": "564840e2",
   "metadata": {},
   "source": [
    "## Step 10: Visualize\n",
    "\n",
    "```powershell\n",
    "kedro viz\n",
    "```\n",
    "\n",
    "Open `http://127.0.0.1:4141`."
   ]
  }
 ],
 "metadata": {},
 "nbformat": 4,
 "nbformat_minor": 5
}
